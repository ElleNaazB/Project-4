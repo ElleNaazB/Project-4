{
  "nbformat": 4,
  "nbformat_minor": 0,
  "metadata": {
    "colab": {
      "provenance": [],
      "authorship_tag": "ABX9TyNmftkXBSFniMGwJkWsEmsM",
      "include_colab_link": true
    },
    "kernelspec": {
      "name": "python3",
      "display_name": "Python 3"
    },
    "language_info": {
      "name": "python"
    }
  },
  "cells": [
    {
      "cell_type": "markdown",
      "metadata": {
        "id": "view-in-github",
        "colab_type": "text"
      },
      "source": [
        "<a href=\"https://colab.research.google.com/github/vivsarraf/Project-4/blob/Ajunjee/Project_4_Price_Prediction_Model.ipynb\" target=\"_parent\"><img src=\"https://colab.research.google.com/assets/colab-badge.svg\" alt=\"Open In Colab\"/></a>"
      ]
    },
    {
      "cell_type": "code",
      "execution_count": 27,
      "metadata": {
        "colab": {
          "base_uri": "https://localhost:8080/",
          "height": 206
        },
        "id": "H4hG9B2keUTY",
        "outputId": "32feabc7-501c-4e01-b6c2-a64c4d2bc683"
      },
      "outputs": [
        {
          "output_type": "execute_result",
          "data": {
            "text/plain": [
              "   Unnamed: 0  PropertyID     PropType              Address     Style  \\\n",
              "0           1     98477.0  Residential      9574 N 107TH ST  Cape Cod   \n",
              "1           2     98500.0  Residential    9531 N MICHAEL CT     Ranch   \n",
              "2           3     98566.0  Residential      9350 N JOYCE AV     Ranch   \n",
              "3           4     98598.0  Residential    9355 N BURBANK AV     Ranch   \n",
              "4           5     98624.0  Residential  8210 W GLENBROOK RD  Colonial   \n",
              "\n",
              "   Year_Built  FinishedSqft  Bdrms  Fbath  Hbath  Lotsize   Sale_date  \\\n",
              "0      1942.0        1182.0    4.0    1.0    1.0  33541.0  2023-12-15   \n",
              "1      2006.0        1880.0    3.0    2.0    0.0  10607.0  2023-08-31   \n",
              "2      1980.0        1489.0    3.0    3.0    0.0   8640.0  2023-08-25   \n",
              "3      1986.0        1209.0    3.0    1.0    1.0   7200.0  2023-06-20   \n",
              "4      1989.0        1663.0    3.0    2.0    1.0   7200.0  2023-01-10   \n",
              "\n",
              "   Sale_price  year  month  \n",
              "0    160000.0  2023     12  \n",
              "1    387500.0  2023      8  \n",
              "2    335000.0  2023      8  \n",
              "3    250000.0  2023      6  \n",
              "4    270000.0  2023      1  "
            ],
            "text/html": [
              "\n",
              "  <div id=\"df-271daed1-ad4d-4b3d-b846-36fdbc14b518\" class=\"colab-df-container\">\n",
              "    <div>\n",
              "<style scoped>\n",
              "    .dataframe tbody tr th:only-of-type {\n",
              "        vertical-align: middle;\n",
              "    }\n",
              "\n",
              "    .dataframe tbody tr th {\n",
              "        vertical-align: top;\n",
              "    }\n",
              "\n",
              "    .dataframe thead th {\n",
              "        text-align: right;\n",
              "    }\n",
              "</style>\n",
              "<table border=\"1\" class=\"dataframe\">\n",
              "  <thead>\n",
              "    <tr style=\"text-align: right;\">\n",
              "      <th></th>\n",
              "      <th>Unnamed: 0</th>\n",
              "      <th>PropertyID</th>\n",
              "      <th>PropType</th>\n",
              "      <th>Address</th>\n",
              "      <th>Style</th>\n",
              "      <th>Year_Built</th>\n",
              "      <th>FinishedSqft</th>\n",
              "      <th>Bdrms</th>\n",
              "      <th>Fbath</th>\n",
              "      <th>Hbath</th>\n",
              "      <th>Lotsize</th>\n",
              "      <th>Sale_date</th>\n",
              "      <th>Sale_price</th>\n",
              "      <th>year</th>\n",
              "      <th>month</th>\n",
              "    </tr>\n",
              "  </thead>\n",
              "  <tbody>\n",
              "    <tr>\n",
              "      <th>0</th>\n",
              "      <td>1</td>\n",
              "      <td>98477.0</td>\n",
              "      <td>Residential</td>\n",
              "      <td>9574 N 107TH ST</td>\n",
              "      <td>Cape Cod</td>\n",
              "      <td>1942.0</td>\n",
              "      <td>1182.0</td>\n",
              "      <td>4.0</td>\n",
              "      <td>1.0</td>\n",
              "      <td>1.0</td>\n",
              "      <td>33541.0</td>\n",
              "      <td>2023-12-15</td>\n",
              "      <td>160000.0</td>\n",
              "      <td>2023</td>\n",
              "      <td>12</td>\n",
              "    </tr>\n",
              "    <tr>\n",
              "      <th>1</th>\n",
              "      <td>2</td>\n",
              "      <td>98500.0</td>\n",
              "      <td>Residential</td>\n",
              "      <td>9531 N MICHAEL CT</td>\n",
              "      <td>Ranch</td>\n",
              "      <td>2006.0</td>\n",
              "      <td>1880.0</td>\n",
              "      <td>3.0</td>\n",
              "      <td>2.0</td>\n",
              "      <td>0.0</td>\n",
              "      <td>10607.0</td>\n",
              "      <td>2023-08-31</td>\n",
              "      <td>387500.0</td>\n",
              "      <td>2023</td>\n",
              "      <td>8</td>\n",
              "    </tr>\n",
              "    <tr>\n",
              "      <th>2</th>\n",
              "      <td>3</td>\n",
              "      <td>98566.0</td>\n",
              "      <td>Residential</td>\n",
              "      <td>9350 N JOYCE AV</td>\n",
              "      <td>Ranch</td>\n",
              "      <td>1980.0</td>\n",
              "      <td>1489.0</td>\n",
              "      <td>3.0</td>\n",
              "      <td>3.0</td>\n",
              "      <td>0.0</td>\n",
              "      <td>8640.0</td>\n",
              "      <td>2023-08-25</td>\n",
              "      <td>335000.0</td>\n",
              "      <td>2023</td>\n",
              "      <td>8</td>\n",
              "    </tr>\n",
              "    <tr>\n",
              "      <th>3</th>\n",
              "      <td>4</td>\n",
              "      <td>98598.0</td>\n",
              "      <td>Residential</td>\n",
              "      <td>9355 N BURBANK AV</td>\n",
              "      <td>Ranch</td>\n",
              "      <td>1986.0</td>\n",
              "      <td>1209.0</td>\n",
              "      <td>3.0</td>\n",
              "      <td>1.0</td>\n",
              "      <td>1.0</td>\n",
              "      <td>7200.0</td>\n",
              "      <td>2023-06-20</td>\n",
              "      <td>250000.0</td>\n",
              "      <td>2023</td>\n",
              "      <td>6</td>\n",
              "    </tr>\n",
              "    <tr>\n",
              "      <th>4</th>\n",
              "      <td>5</td>\n",
              "      <td>98624.0</td>\n",
              "      <td>Residential</td>\n",
              "      <td>8210 W GLENBROOK RD</td>\n",
              "      <td>Colonial</td>\n",
              "      <td>1989.0</td>\n",
              "      <td>1663.0</td>\n",
              "      <td>3.0</td>\n",
              "      <td>2.0</td>\n",
              "      <td>1.0</td>\n",
              "      <td>7200.0</td>\n",
              "      <td>2023-01-10</td>\n",
              "      <td>270000.0</td>\n",
              "      <td>2023</td>\n",
              "      <td>1</td>\n",
              "    </tr>\n",
              "  </tbody>\n",
              "</table>\n",
              "</div>\n",
              "    <div class=\"colab-df-buttons\">\n",
              "\n",
              "  <div class=\"colab-df-container\">\n",
              "    <button class=\"colab-df-convert\" onclick=\"convertToInteractive('df-271daed1-ad4d-4b3d-b846-36fdbc14b518')\"\n",
              "            title=\"Convert this dataframe to an interactive table.\"\n",
              "            style=\"display:none;\">\n",
              "\n",
              "  <svg xmlns=\"http://www.w3.org/2000/svg\" height=\"24px\" viewBox=\"0 -960 960 960\">\n",
              "    <path d=\"M120-120v-720h720v720H120Zm60-500h600v-160H180v160Zm220 220h160v-160H400v160Zm0 220h160v-160H400v160ZM180-400h160v-160H180v160Zm440 0h160v-160H620v160ZM180-180h160v-160H180v160Zm440 0h160v-160H620v160Z\"/>\n",
              "  </svg>\n",
              "    </button>\n",
              "\n",
              "  <style>\n",
              "    .colab-df-container {\n",
              "      display:flex;\n",
              "      gap: 12px;\n",
              "    }\n",
              "\n",
              "    .colab-df-convert {\n",
              "      background-color: #E8F0FE;\n",
              "      border: none;\n",
              "      border-radius: 50%;\n",
              "      cursor: pointer;\n",
              "      display: none;\n",
              "      fill: #1967D2;\n",
              "      height: 32px;\n",
              "      padding: 0 0 0 0;\n",
              "      width: 32px;\n",
              "    }\n",
              "\n",
              "    .colab-df-convert:hover {\n",
              "      background-color: #E2EBFA;\n",
              "      box-shadow: 0px 1px 2px rgba(60, 64, 67, 0.3), 0px 1px 3px 1px rgba(60, 64, 67, 0.15);\n",
              "      fill: #174EA6;\n",
              "    }\n",
              "\n",
              "    .colab-df-buttons div {\n",
              "      margin-bottom: 4px;\n",
              "    }\n",
              "\n",
              "    [theme=dark] .colab-df-convert {\n",
              "      background-color: #3B4455;\n",
              "      fill: #D2E3FC;\n",
              "    }\n",
              "\n",
              "    [theme=dark] .colab-df-convert:hover {\n",
              "      background-color: #434B5C;\n",
              "      box-shadow: 0px 1px 3px 1px rgba(0, 0, 0, 0.15);\n",
              "      filter: drop-shadow(0px 1px 2px rgba(0, 0, 0, 0.3));\n",
              "      fill: #FFFFFF;\n",
              "    }\n",
              "  </style>\n",
              "\n",
              "    <script>\n",
              "      const buttonEl =\n",
              "        document.querySelector('#df-271daed1-ad4d-4b3d-b846-36fdbc14b518 button.colab-df-convert');\n",
              "      buttonEl.style.display =\n",
              "        google.colab.kernel.accessAllowed ? 'block' : 'none';\n",
              "\n",
              "      async function convertToInteractive(key) {\n",
              "        const element = document.querySelector('#df-271daed1-ad4d-4b3d-b846-36fdbc14b518');\n",
              "        const dataTable =\n",
              "          await google.colab.kernel.invokeFunction('convertToInteractive',\n",
              "                                                    [key], {});\n",
              "        if (!dataTable) return;\n",
              "\n",
              "        const docLinkHtml = 'Like what you see? Visit the ' +\n",
              "          '<a target=\"_blank\" href=https://colab.research.google.com/notebooks/data_table.ipynb>data table notebook</a>'\n",
              "          + ' to learn more about interactive tables.';\n",
              "        element.innerHTML = '';\n",
              "        dataTable['output_type'] = 'display_data';\n",
              "        await google.colab.output.renderOutput(dataTable, element);\n",
              "        const docLink = document.createElement('div');\n",
              "        docLink.innerHTML = docLinkHtml;\n",
              "        element.appendChild(docLink);\n",
              "      }\n",
              "    </script>\n",
              "  </div>\n",
              "\n",
              "\n",
              "<div id=\"df-d24a2a4b-b016-4486-a248-0131424ea4a1\">\n",
              "  <button class=\"colab-df-quickchart\" onclick=\"quickchart('df-d24a2a4b-b016-4486-a248-0131424ea4a1')\"\n",
              "            title=\"Suggest charts\"\n",
              "            style=\"display:none;\">\n",
              "\n",
              "<svg xmlns=\"http://www.w3.org/2000/svg\" height=\"24px\"viewBox=\"0 0 24 24\"\n",
              "     width=\"24px\">\n",
              "    <g>\n",
              "        <path d=\"M19 3H5c-1.1 0-2 .9-2 2v14c0 1.1.9 2 2 2h14c1.1 0 2-.9 2-2V5c0-1.1-.9-2-2-2zM9 17H7v-7h2v7zm4 0h-2V7h2v10zm4 0h-2v-4h2v4z\"/>\n",
              "    </g>\n",
              "</svg>\n",
              "  </button>\n",
              "\n",
              "<style>\n",
              "  .colab-df-quickchart {\n",
              "      --bg-color: #E8F0FE;\n",
              "      --fill-color: #1967D2;\n",
              "      --hover-bg-color: #E2EBFA;\n",
              "      --hover-fill-color: #174EA6;\n",
              "      --disabled-fill-color: #AAA;\n",
              "      --disabled-bg-color: #DDD;\n",
              "  }\n",
              "\n",
              "  [theme=dark] .colab-df-quickchart {\n",
              "      --bg-color: #3B4455;\n",
              "      --fill-color: #D2E3FC;\n",
              "      --hover-bg-color: #434B5C;\n",
              "      --hover-fill-color: #FFFFFF;\n",
              "      --disabled-bg-color: #3B4455;\n",
              "      --disabled-fill-color: #666;\n",
              "  }\n",
              "\n",
              "  .colab-df-quickchart {\n",
              "    background-color: var(--bg-color);\n",
              "    border: none;\n",
              "    border-radius: 50%;\n",
              "    cursor: pointer;\n",
              "    display: none;\n",
              "    fill: var(--fill-color);\n",
              "    height: 32px;\n",
              "    padding: 0;\n",
              "    width: 32px;\n",
              "  }\n",
              "\n",
              "  .colab-df-quickchart:hover {\n",
              "    background-color: var(--hover-bg-color);\n",
              "    box-shadow: 0 1px 2px rgba(60, 64, 67, 0.3), 0 1px 3px 1px rgba(60, 64, 67, 0.15);\n",
              "    fill: var(--button-hover-fill-color);\n",
              "  }\n",
              "\n",
              "  .colab-df-quickchart-complete:disabled,\n",
              "  .colab-df-quickchart-complete:disabled:hover {\n",
              "    background-color: var(--disabled-bg-color);\n",
              "    fill: var(--disabled-fill-color);\n",
              "    box-shadow: none;\n",
              "  }\n",
              "\n",
              "  .colab-df-spinner {\n",
              "    border: 2px solid var(--fill-color);\n",
              "    border-color: transparent;\n",
              "    border-bottom-color: var(--fill-color);\n",
              "    animation:\n",
              "      spin 1s steps(1) infinite;\n",
              "  }\n",
              "\n",
              "  @keyframes spin {\n",
              "    0% {\n",
              "      border-color: transparent;\n",
              "      border-bottom-color: var(--fill-color);\n",
              "      border-left-color: var(--fill-color);\n",
              "    }\n",
              "    20% {\n",
              "      border-color: transparent;\n",
              "      border-left-color: var(--fill-color);\n",
              "      border-top-color: var(--fill-color);\n",
              "    }\n",
              "    30% {\n",
              "      border-color: transparent;\n",
              "      border-left-color: var(--fill-color);\n",
              "      border-top-color: var(--fill-color);\n",
              "      border-right-color: var(--fill-color);\n",
              "    }\n",
              "    40% {\n",
              "      border-color: transparent;\n",
              "      border-right-color: var(--fill-color);\n",
              "      border-top-color: var(--fill-color);\n",
              "    }\n",
              "    60% {\n",
              "      border-color: transparent;\n",
              "      border-right-color: var(--fill-color);\n",
              "    }\n",
              "    80% {\n",
              "      border-color: transparent;\n",
              "      border-right-color: var(--fill-color);\n",
              "      border-bottom-color: var(--fill-color);\n",
              "    }\n",
              "    90% {\n",
              "      border-color: transparent;\n",
              "      border-bottom-color: var(--fill-color);\n",
              "    }\n",
              "  }\n",
              "</style>\n",
              "\n",
              "  <script>\n",
              "    async function quickchart(key) {\n",
              "      const quickchartButtonEl =\n",
              "        document.querySelector('#' + key + ' button');\n",
              "      quickchartButtonEl.disabled = true;  // To prevent multiple clicks.\n",
              "      quickchartButtonEl.classList.add('colab-df-spinner');\n",
              "      try {\n",
              "        const charts = await google.colab.kernel.invokeFunction(\n",
              "            'suggestCharts', [key], {});\n",
              "      } catch (error) {\n",
              "        console.error('Error during call to suggestCharts:', error);\n",
              "      }\n",
              "      quickchartButtonEl.classList.remove('colab-df-spinner');\n",
              "      quickchartButtonEl.classList.add('colab-df-quickchart-complete');\n",
              "    }\n",
              "    (() => {\n",
              "      let quickchartButtonEl =\n",
              "        document.querySelector('#df-d24a2a4b-b016-4486-a248-0131424ea4a1 button');\n",
              "      quickchartButtonEl.style.display =\n",
              "        google.colab.kernel.accessAllowed ? 'block' : 'none';\n",
              "    })();\n",
              "  </script>\n",
              "</div>\n",
              "\n",
              "    </div>\n",
              "  </div>\n"
            ],
            "application/vnd.google.colaboratory.intrinsic+json": {
              "type": "dataframe",
              "variable_name": "sales_data_df",
              "summary": "{\n  \"name\": \"sales_data_df\",\n  \"rows\": 33153,\n  \"fields\": [\n    {\n      \"column\": \"Unnamed: 0\",\n      \"properties\": {\n        \"dtype\": \"number\",\n        \"std\": 17598,\n        \"min\": 1,\n        \"max\": 56182,\n        \"num_unique_values\": 33153,\n        \"samples\": [\n          52295,\n          10916,\n          28755\n        ],\n        \"semantic_type\": \"\",\n        \"description\": \"\"\n      }\n    },\n    {\n      \"column\": \"PropertyID\",\n      \"properties\": {\n        \"dtype\": \"number\",\n        \"std\": 48293.032798239976,\n        \"min\": 98477.0,\n        \"max\": 266292.0,\n        \"num_unique_values\": 14075,\n        \"samples\": [\n          143056.0,\n          106639.0,\n          124438.0\n        ],\n        \"semantic_type\": \"\",\n        \"description\": \"\"\n      }\n    },\n    {\n      \"column\": \"PropType\",\n      \"properties\": {\n        \"dtype\": \"category\",\n        \"num_unique_values\": 1,\n        \"samples\": [\n          \"Residential\"\n        ],\n        \"semantic_type\": \"\",\n        \"description\": \"\"\n      }\n    },\n    {\n      \"column\": \"Address\",\n      \"properties\": {\n        \"dtype\": \"string\",\n        \"num_unique_values\": 28916,\n        \"samples\": [\n          \"3308--A N 45TH ST\"\n        ],\n        \"semantic_type\": \"\",\n        \"description\": \"\"\n      }\n    },\n    {\n      \"column\": \"Style\",\n      \"properties\": {\n        \"dtype\": \"category\",\n        \"num_unique_values\": 25,\n        \"samples\": [\n          \"Milwaukee Bungalow\"\n        ],\n        \"semantic_type\": \"\",\n        \"description\": \"\"\n      }\n    },\n    {\n      \"column\": \"Year_Built\",\n      \"properties\": {\n        \"dtype\": \"number\",\n        \"std\": 30.856519136233533,\n        \"min\": 0.0,\n        \"max\": 2023.0,\n        \"num_unique_values\": 168,\n        \"samples\": [\n          1982.0\n        ],\n        \"semantic_type\": \"\",\n        \"description\": \"\"\n      }\n    },\n    {\n      \"column\": \"FinishedSqft\",\n      \"properties\": {\n        \"dtype\": \"number\",\n        \"std\": 633.9875288466649,\n        \"min\": 0.0,\n        \"max\": 11222.0,\n        \"num_unique_values\": 2910,\n        \"samples\": [\n          1605.0\n        ],\n        \"semantic_type\": \"\",\n        \"description\": \"\"\n      }\n    },\n    {\n      \"column\": \"Bdrms\",\n      \"properties\": {\n        \"dtype\": \"number\",\n        \"std\": 11.223800669132633,\n        \"min\": 0.0,\n        \"max\": 2031.0,\n        \"num_unique_values\": 25,\n        \"samples\": [\n          12.0\n        ],\n        \"semantic_type\": \"\",\n        \"description\": \"\"\n      }\n    },\n    {\n      \"column\": \"Fbath\",\n      \"properties\": {\n        \"dtype\": \"number\",\n        \"std\": 0.6124741891651337,\n        \"min\": 0.0,\n        \"max\": 10.0,\n        \"num_unique_values\": 10,\n        \"samples\": [\n          7.0\n        ],\n        \"semantic_type\": \"\",\n        \"description\": \"\"\n      }\n    },\n    {\n      \"column\": \"Hbath\",\n      \"properties\": {\n        \"dtype\": \"number\",\n        \"std\": 0.521306027314474,\n        \"min\": 0.0,\n        \"max\": 3.0,\n        \"num_unique_values\": 4,\n        \"samples\": [\n          0.0\n        ],\n        \"semantic_type\": \"\",\n        \"description\": \"\"\n      }\n    },\n    {\n      \"column\": \"Lotsize\",\n      \"properties\": {\n        \"dtype\": \"number\",\n        \"std\": 4280.311857339897,\n        \"min\": 0.0,\n        \"max\": 227819.0,\n        \"num_unique_values\": 3690,\n        \"samples\": [\n          6006.0\n        ],\n        \"semantic_type\": \"\",\n        \"description\": \"\"\n      }\n    },\n    {\n      \"column\": \"Sale_date\",\n      \"properties\": {\n        \"dtype\": \"object\",\n        \"num_unique_values\": 977,\n        \"samples\": [\n          \"2023-02-03\"\n        ],\n        \"semantic_type\": \"\",\n        \"description\": \"\"\n      }\n    },\n    {\n      \"column\": \"Sale_price\",\n      \"properties\": {\n        \"dtype\": \"number\",\n        \"std\": 99605.62521202008,\n        \"min\": 0.0,\n        \"max\": 2500000.0,\n        \"num_unique_values\": 3054,\n        \"samples\": [\n          150500.0\n        ],\n        \"semantic_type\": \"\",\n        \"description\": \"\"\n      }\n    },\n    {\n      \"column\": \"year\",\n      \"properties\": {\n        \"dtype\": \"number\",\n        \"std\": 1,\n        \"min\": 2019,\n        \"max\": 2028,\n        \"num_unique_values\": 6,\n        \"samples\": [\n          2023\n        ],\n        \"semantic_type\": \"\",\n        \"description\": \"\"\n      }\n    },\n    {\n      \"column\": \"month\",\n      \"properties\": {\n        \"dtype\": \"number\",\n        \"std\": 3,\n        \"min\": 1,\n        \"max\": 12,\n        \"num_unique_values\": 12,\n        \"samples\": [\n          4\n        ],\n        \"semantic_type\": \"\",\n        \"description\": \"\"\n      }\n    }\n  ]\n}"
            }
          },
          "metadata": {},
          "execution_count": 27
        }
      ],
      "source": [
        "# Import our dependencies\n",
        "from sklearn.model_selection import train_test_split\n",
        "from sklearn.preprocessing import StandardScaler\n",
        "import pandas as pd\n",
        "import tensorflow as tf\n",
        "import numpy as np\n",
        "import matplotlib.pyplot as plt\n",
        "from tensorflow.keras.layers import Dense\n",
        "from tensorflow.keras.models import Sequential, Model\n",
        "from sklearn.model_selection import train_test_split\n",
        "from sklearn.preprocessing import StandardScaler\n",
        "from sklearn.metrics import mean_squared_error,r2_score,mean_absolute_error\n",
        "\n",
        "#  Import and read the csv.\n",
        "import pandas as pd\n",
        "sales_data_df = pd.read_csv(\"cleaned-property-sales-data.csv\")\n",
        "sales_data_df.head()"
      ]
    },
    {
      "cell_type": "code",
      "source": [
        "sales_data_df.isnull().sum()"
      ],
      "metadata": {
        "colab": {
          "base_uri": "https://localhost:8080/"
        },
        "id": "xQyasf-SpEsS",
        "outputId": "57537d52-b0aa-41af-adee-0fd593d25309"
      },
      "execution_count": 2,
      "outputs": [
        {
          "output_type": "execute_result",
          "data": {
            "text/plain": [
              "Unnamed: 0          0\n",
              "PropertyID      18069\n",
              "PropType            0\n",
              "Address             0\n",
              "Style               0\n",
              "Year_Built          0\n",
              "FinishedSqft        0\n",
              "Bdrms               0\n",
              "Fbath               0\n",
              "Hbath               0\n",
              "Lotsize             0\n",
              "Sale_date           0\n",
              "Sale_price          0\n",
              "year                0\n",
              "month               0\n",
              "dtype: int64"
            ]
          },
          "metadata": {},
          "execution_count": 2
        }
      ]
    },
    {
      "cell_type": "code",
      "source": [
        "y = sales_data_df.Sale_price.values\n",
        "X = sales_data_df.drop(columns = ['Unnamed: 0','PropertyID', 'PropType', 'Address','Style','Year_Built','Sale_date', 'Sale_price', 'month'], axis=1)\n",
        "X.head()\n"
      ],
      "metadata": {
        "colab": {
          "base_uri": "https://localhost:8080/",
          "height": 206
        },
        "id": "ZamxC2Fwe_VG",
        "outputId": "236d2381-99cc-4347-8071-3c57c45fe4d4"
      },
      "execution_count": 3,
      "outputs": [
        {
          "output_type": "execute_result",
          "data": {
            "text/plain": [
              "   FinishedSqft  Bdrms  Fbath  Hbath  Lotsize  year\n",
              "0        1182.0    4.0    1.0    1.0  33541.0  2023\n",
              "1        1880.0    3.0    2.0    0.0  10607.0  2023\n",
              "2        1489.0    3.0    3.0    0.0   8640.0  2023\n",
              "3        1209.0    3.0    1.0    1.0   7200.0  2023\n",
              "4        1663.0    3.0    2.0    1.0   7200.0  2023"
            ],
            "text/html": [
              "\n",
              "  <div id=\"df-f6c51849-f837-4054-af74-5d81c5926984\" class=\"colab-df-container\">\n",
              "    <div>\n",
              "<style scoped>\n",
              "    .dataframe tbody tr th:only-of-type {\n",
              "        vertical-align: middle;\n",
              "    }\n",
              "\n",
              "    .dataframe tbody tr th {\n",
              "        vertical-align: top;\n",
              "    }\n",
              "\n",
              "    .dataframe thead th {\n",
              "        text-align: right;\n",
              "    }\n",
              "</style>\n",
              "<table border=\"1\" class=\"dataframe\">\n",
              "  <thead>\n",
              "    <tr style=\"text-align: right;\">\n",
              "      <th></th>\n",
              "      <th>FinishedSqft</th>\n",
              "      <th>Bdrms</th>\n",
              "      <th>Fbath</th>\n",
              "      <th>Hbath</th>\n",
              "      <th>Lotsize</th>\n",
              "      <th>year</th>\n",
              "    </tr>\n",
              "  </thead>\n",
              "  <tbody>\n",
              "    <tr>\n",
              "      <th>0</th>\n",
              "      <td>1182.0</td>\n",
              "      <td>4.0</td>\n",
              "      <td>1.0</td>\n",
              "      <td>1.0</td>\n",
              "      <td>33541.0</td>\n",
              "      <td>2023</td>\n",
              "    </tr>\n",
              "    <tr>\n",
              "      <th>1</th>\n",
              "      <td>1880.0</td>\n",
              "      <td>3.0</td>\n",
              "      <td>2.0</td>\n",
              "      <td>0.0</td>\n",
              "      <td>10607.0</td>\n",
              "      <td>2023</td>\n",
              "    </tr>\n",
              "    <tr>\n",
              "      <th>2</th>\n",
              "      <td>1489.0</td>\n",
              "      <td>3.0</td>\n",
              "      <td>3.0</td>\n",
              "      <td>0.0</td>\n",
              "      <td>8640.0</td>\n",
              "      <td>2023</td>\n",
              "    </tr>\n",
              "    <tr>\n",
              "      <th>3</th>\n",
              "      <td>1209.0</td>\n",
              "      <td>3.0</td>\n",
              "      <td>1.0</td>\n",
              "      <td>1.0</td>\n",
              "      <td>7200.0</td>\n",
              "      <td>2023</td>\n",
              "    </tr>\n",
              "    <tr>\n",
              "      <th>4</th>\n",
              "      <td>1663.0</td>\n",
              "      <td>3.0</td>\n",
              "      <td>2.0</td>\n",
              "      <td>1.0</td>\n",
              "      <td>7200.0</td>\n",
              "      <td>2023</td>\n",
              "    </tr>\n",
              "  </tbody>\n",
              "</table>\n",
              "</div>\n",
              "    <div class=\"colab-df-buttons\">\n",
              "\n",
              "  <div class=\"colab-df-container\">\n",
              "    <button class=\"colab-df-convert\" onclick=\"convertToInteractive('df-f6c51849-f837-4054-af74-5d81c5926984')\"\n",
              "            title=\"Convert this dataframe to an interactive table.\"\n",
              "            style=\"display:none;\">\n",
              "\n",
              "  <svg xmlns=\"http://www.w3.org/2000/svg\" height=\"24px\" viewBox=\"0 -960 960 960\">\n",
              "    <path d=\"M120-120v-720h720v720H120Zm60-500h600v-160H180v160Zm220 220h160v-160H400v160Zm0 220h160v-160H400v160ZM180-400h160v-160H180v160Zm440 0h160v-160H620v160ZM180-180h160v-160H180v160Zm440 0h160v-160H620v160Z\"/>\n",
              "  </svg>\n",
              "    </button>\n",
              "\n",
              "  <style>\n",
              "    .colab-df-container {\n",
              "      display:flex;\n",
              "      gap: 12px;\n",
              "    }\n",
              "\n",
              "    .colab-df-convert {\n",
              "      background-color: #E8F0FE;\n",
              "      border: none;\n",
              "      border-radius: 50%;\n",
              "      cursor: pointer;\n",
              "      display: none;\n",
              "      fill: #1967D2;\n",
              "      height: 32px;\n",
              "      padding: 0 0 0 0;\n",
              "      width: 32px;\n",
              "    }\n",
              "\n",
              "    .colab-df-convert:hover {\n",
              "      background-color: #E2EBFA;\n",
              "      box-shadow: 0px 1px 2px rgba(60, 64, 67, 0.3), 0px 1px 3px 1px rgba(60, 64, 67, 0.15);\n",
              "      fill: #174EA6;\n",
              "    }\n",
              "\n",
              "    .colab-df-buttons div {\n",
              "      margin-bottom: 4px;\n",
              "    }\n",
              "\n",
              "    [theme=dark] .colab-df-convert {\n",
              "      background-color: #3B4455;\n",
              "      fill: #D2E3FC;\n",
              "    }\n",
              "\n",
              "    [theme=dark] .colab-df-convert:hover {\n",
              "      background-color: #434B5C;\n",
              "      box-shadow: 0px 1px 3px 1px rgba(0, 0, 0, 0.15);\n",
              "      filter: drop-shadow(0px 1px 2px rgba(0, 0, 0, 0.3));\n",
              "      fill: #FFFFFF;\n",
              "    }\n",
              "  </style>\n",
              "\n",
              "    <script>\n",
              "      const buttonEl =\n",
              "        document.querySelector('#df-f6c51849-f837-4054-af74-5d81c5926984 button.colab-df-convert');\n",
              "      buttonEl.style.display =\n",
              "        google.colab.kernel.accessAllowed ? 'block' : 'none';\n",
              "\n",
              "      async function convertToInteractive(key) {\n",
              "        const element = document.querySelector('#df-f6c51849-f837-4054-af74-5d81c5926984');\n",
              "        const dataTable =\n",
              "          await google.colab.kernel.invokeFunction('convertToInteractive',\n",
              "                                                    [key], {});\n",
              "        if (!dataTable) return;\n",
              "\n",
              "        const docLinkHtml = 'Like what you see? Visit the ' +\n",
              "          '<a target=\"_blank\" href=https://colab.research.google.com/notebooks/data_table.ipynb>data table notebook</a>'\n",
              "          + ' to learn more about interactive tables.';\n",
              "        element.innerHTML = '';\n",
              "        dataTable['output_type'] = 'display_data';\n",
              "        await google.colab.output.renderOutput(dataTable, element);\n",
              "        const docLink = document.createElement('div');\n",
              "        docLink.innerHTML = docLinkHtml;\n",
              "        element.appendChild(docLink);\n",
              "      }\n",
              "    </script>\n",
              "  </div>\n",
              "\n",
              "\n",
              "<div id=\"df-2e3c6d63-a32d-40d1-8b5f-866997a7deca\">\n",
              "  <button class=\"colab-df-quickchart\" onclick=\"quickchart('df-2e3c6d63-a32d-40d1-8b5f-866997a7deca')\"\n",
              "            title=\"Suggest charts\"\n",
              "            style=\"display:none;\">\n",
              "\n",
              "<svg xmlns=\"http://www.w3.org/2000/svg\" height=\"24px\"viewBox=\"0 0 24 24\"\n",
              "     width=\"24px\">\n",
              "    <g>\n",
              "        <path d=\"M19 3H5c-1.1 0-2 .9-2 2v14c0 1.1.9 2 2 2h14c1.1 0 2-.9 2-2V5c0-1.1-.9-2-2-2zM9 17H7v-7h2v7zm4 0h-2V7h2v10zm4 0h-2v-4h2v4z\"/>\n",
              "    </g>\n",
              "</svg>\n",
              "  </button>\n",
              "\n",
              "<style>\n",
              "  .colab-df-quickchart {\n",
              "      --bg-color: #E8F0FE;\n",
              "      --fill-color: #1967D2;\n",
              "      --hover-bg-color: #E2EBFA;\n",
              "      --hover-fill-color: #174EA6;\n",
              "      --disabled-fill-color: #AAA;\n",
              "      --disabled-bg-color: #DDD;\n",
              "  }\n",
              "\n",
              "  [theme=dark] .colab-df-quickchart {\n",
              "      --bg-color: #3B4455;\n",
              "      --fill-color: #D2E3FC;\n",
              "      --hover-bg-color: #434B5C;\n",
              "      --hover-fill-color: #FFFFFF;\n",
              "      --disabled-bg-color: #3B4455;\n",
              "      --disabled-fill-color: #666;\n",
              "  }\n",
              "\n",
              "  .colab-df-quickchart {\n",
              "    background-color: var(--bg-color);\n",
              "    border: none;\n",
              "    border-radius: 50%;\n",
              "    cursor: pointer;\n",
              "    display: none;\n",
              "    fill: var(--fill-color);\n",
              "    height: 32px;\n",
              "    padding: 0;\n",
              "    width: 32px;\n",
              "  }\n",
              "\n",
              "  .colab-df-quickchart:hover {\n",
              "    background-color: var(--hover-bg-color);\n",
              "    box-shadow: 0 1px 2px rgba(60, 64, 67, 0.3), 0 1px 3px 1px rgba(60, 64, 67, 0.15);\n",
              "    fill: var(--button-hover-fill-color);\n",
              "  }\n",
              "\n",
              "  .colab-df-quickchart-complete:disabled,\n",
              "  .colab-df-quickchart-complete:disabled:hover {\n",
              "    background-color: var(--disabled-bg-color);\n",
              "    fill: var(--disabled-fill-color);\n",
              "    box-shadow: none;\n",
              "  }\n",
              "\n",
              "  .colab-df-spinner {\n",
              "    border: 2px solid var(--fill-color);\n",
              "    border-color: transparent;\n",
              "    border-bottom-color: var(--fill-color);\n",
              "    animation:\n",
              "      spin 1s steps(1) infinite;\n",
              "  }\n",
              "\n",
              "  @keyframes spin {\n",
              "    0% {\n",
              "      border-color: transparent;\n",
              "      border-bottom-color: var(--fill-color);\n",
              "      border-left-color: var(--fill-color);\n",
              "    }\n",
              "    20% {\n",
              "      border-color: transparent;\n",
              "      border-left-color: var(--fill-color);\n",
              "      border-top-color: var(--fill-color);\n",
              "    }\n",
              "    30% {\n",
              "      border-color: transparent;\n",
              "      border-left-color: var(--fill-color);\n",
              "      border-top-color: var(--fill-color);\n",
              "      border-right-color: var(--fill-color);\n",
              "    }\n",
              "    40% {\n",
              "      border-color: transparent;\n",
              "      border-right-color: var(--fill-color);\n",
              "      border-top-color: var(--fill-color);\n",
              "    }\n",
              "    60% {\n",
              "      border-color: transparent;\n",
              "      border-right-color: var(--fill-color);\n",
              "    }\n",
              "    80% {\n",
              "      border-color: transparent;\n",
              "      border-right-color: var(--fill-color);\n",
              "      border-bottom-color: var(--fill-color);\n",
              "    }\n",
              "    90% {\n",
              "      border-color: transparent;\n",
              "      border-bottom-color: var(--fill-color);\n",
              "    }\n",
              "  }\n",
              "</style>\n",
              "\n",
              "  <script>\n",
              "    async function quickchart(key) {\n",
              "      const quickchartButtonEl =\n",
              "        document.querySelector('#' + key + ' button');\n",
              "      quickchartButtonEl.disabled = true;  // To prevent multiple clicks.\n",
              "      quickchartButtonEl.classList.add('colab-df-spinner');\n",
              "      try {\n",
              "        const charts = await google.colab.kernel.invokeFunction(\n",
              "            'suggestCharts', [key], {});\n",
              "      } catch (error) {\n",
              "        console.error('Error during call to suggestCharts:', error);\n",
              "      }\n",
              "      quickchartButtonEl.classList.remove('colab-df-spinner');\n",
              "      quickchartButtonEl.classList.add('colab-df-quickchart-complete');\n",
              "    }\n",
              "    (() => {\n",
              "      let quickchartButtonEl =\n",
              "        document.querySelector('#df-2e3c6d63-a32d-40d1-8b5f-866997a7deca button');\n",
              "      quickchartButtonEl.style.display =\n",
              "        google.colab.kernel.accessAllowed ? 'block' : 'none';\n",
              "    })();\n",
              "  </script>\n",
              "</div>\n",
              "\n",
              "    </div>\n",
              "  </div>\n"
            ],
            "application/vnd.google.colaboratory.intrinsic+json": {
              "type": "dataframe",
              "variable_name": "X",
              "summary": "{\n  \"name\": \"X\",\n  \"rows\": 33153,\n  \"fields\": [\n    {\n      \"column\": \"FinishedSqft\",\n      \"properties\": {\n        \"dtype\": \"number\",\n        \"std\": 633.9875288466649,\n        \"min\": 0.0,\n        \"max\": 11222.0,\n        \"num_unique_values\": 2910,\n        \"samples\": [\n          1605.0,\n          3174.0,\n          2770.0\n        ],\n        \"semantic_type\": \"\",\n        \"description\": \"\"\n      }\n    },\n    {\n      \"column\": \"Bdrms\",\n      \"properties\": {\n        \"dtype\": \"number\",\n        \"std\": 11.223800669132633,\n        \"min\": 0.0,\n        \"max\": 2031.0,\n        \"num_unique_values\": 25,\n        \"samples\": [\n          12.0,\n          18.0,\n          4.0\n        ],\n        \"semantic_type\": \"\",\n        \"description\": \"\"\n      }\n    },\n    {\n      \"column\": \"Fbath\",\n      \"properties\": {\n        \"dtype\": \"number\",\n        \"std\": 0.6124741891651337,\n        \"min\": 0.0,\n        \"max\": 10.0,\n        \"num_unique_values\": 10,\n        \"samples\": [\n          7.0,\n          2.0,\n          0.0\n        ],\n        \"semantic_type\": \"\",\n        \"description\": \"\"\n      }\n    },\n    {\n      \"column\": \"Hbath\",\n      \"properties\": {\n        \"dtype\": \"number\",\n        \"std\": 0.521306027314474,\n        \"min\": 0.0,\n        \"max\": 3.0,\n        \"num_unique_values\": 4,\n        \"samples\": [\n          0.0,\n          3.0,\n          1.0\n        ],\n        \"semantic_type\": \"\",\n        \"description\": \"\"\n      }\n    },\n    {\n      \"column\": \"Lotsize\",\n      \"properties\": {\n        \"dtype\": \"number\",\n        \"std\": 4280.311857339897,\n        \"min\": 0.0,\n        \"max\": 227819.0,\n        \"num_unique_values\": 3690,\n        \"samples\": [\n          6006.0,\n          2310.0,\n          4644.0\n        ],\n        \"semantic_type\": \"\",\n        \"description\": \"\"\n      }\n    },\n    {\n      \"column\": \"year\",\n      \"properties\": {\n        \"dtype\": \"number\",\n        \"std\": 1,\n        \"min\": 2019,\n        \"max\": 2028,\n        \"num_unique_values\": 6,\n        \"samples\": [\n          2023,\n          2022,\n          2020\n        ],\n        \"semantic_type\": \"\",\n        \"description\": \"\"\n      }\n    }\n  ]\n}"
            }
          },
          "metadata": {},
          "execution_count": 3
        }
      ]
    },
    {
      "cell_type": "code",
      "source": [
        "# Split the preprocessed data into a training and testing dataset\n",
        "# Assign the function a random_state equal to 1\n",
        "X_train, X_test, y_train, y_test = train_test_split(X, y, test_size=0.1, train_size=0.9, random_state=1)"
      ],
      "metadata": {
        "id": "MJZ5k-4hhC3s"
      },
      "execution_count": 4,
      "outputs": []
    },
    {
      "cell_type": "code",
      "source": [
        "# Create a StandardScaler instance\n",
        "scaler = StandardScaler()\n",
        "\n",
        "# Fit the scaler to the features training dataset\n",
        "X_scaler = scaler.fit(X_train)\n",
        "\n",
        "# Fit the scaler to the features training dataset\n",
        "X_train_scaled = X_scaler.transform(X_train)\n",
        "X_test_scaled = X_scaler.transform(X_test)"
      ],
      "metadata": {
        "id": "zbd34barhOn8"
      },
      "execution_count": 5,
      "outputs": []
    },
    {
      "cell_type": "code",
      "source": [
        "# Define the the number of inputs (features) to the model\n",
        "number_input_features = len(X.iloc[0])\n",
        "\n",
        "# Review the number of features\n",
        "number_input_features"
      ],
      "metadata": {
        "colab": {
          "base_uri": "https://localhost:8080/"
        },
        "id": "FJkDFiashP6k",
        "outputId": "6efec231-d5ab-45cf-8f40-3744e302109c"
      },
      "execution_count": 6,
      "outputs": [
        {
          "output_type": "execute_result",
          "data": {
            "text/plain": [
              "6"
            ]
          },
          "metadata": {},
          "execution_count": 6
        }
      ]
    },
    {
      "cell_type": "code",
      "source": [
        "# Define the number of neurons in the output layer\n",
        "number_output_neurons = 1\n",
        "\n",
        "# Define the number of hidden nodes for the first hidden layer\n",
        "hidden_nodes_layer1 = 16\n",
        "\n",
        "# Define the number of hidden nodes for the second hidden layer\n",
        "hidden_nodes_layer2 = 16\n",
        "\n",
        "# Review the number hidden nodes in the second layer\n",
        "hidden_nodes_layers = hidden_nodes_layer1 + hidden_nodes_layer2\n",
        "hidden_nodes_layers"
      ],
      "metadata": {
        "colab": {
          "base_uri": "https://localhost:8080/"
        },
        "id": "mkTQGlDZhXcU",
        "outputId": "b6889189-51d9-4a75-8998-0f5d61e84d6c"
      },
      "execution_count": 7,
      "outputs": [
        {
          "output_type": "execute_result",
          "data": {
            "text/plain": [
              "32"
            ]
          },
          "metadata": {},
          "execution_count": 7
        }
      ]
    },
    {
      "cell_type": "code",
      "source": [
        "# Create the Sequential model instance\n",
        "nn = Sequential()\n",
        "\n",
        "# Add the first hidden layer\n",
        "nn.add(Dense(units=hidden_nodes_layer1, input_dim=number_input_features, activation=\"relu\"))\n",
        "\n",
        "# Add the second hidden layer\n",
        "nn.add(Dense(units=hidden_nodes_layer2, activation=\"relu\"))\n",
        "\n",
        "# Add the output layer to the model specifying the number of output neurons and activation function\n",
        "nn.add(Dense(units=number_output_neurons, activation=\"sigmoid\"))"
      ],
      "metadata": {
        "id": "bFRxiOOohaxl"
      },
      "execution_count": 8,
      "outputs": []
    },
    {
      "cell_type": "code",
      "source": [
        "# Display the Sequential model summary\n",
        "nn.summary()"
      ],
      "metadata": {
        "colab": {
          "base_uri": "https://localhost:8080/"
        },
        "id": "GlN4P045hdNN",
        "outputId": "0f80b65d-b1b9-450b-b06f-32ae12334a95"
      },
      "execution_count": 9,
      "outputs": [
        {
          "output_type": "stream",
          "name": "stdout",
          "text": [
            "Model: \"sequential\"\n",
            "_________________________________________________________________\n",
            " Layer (type)                Output Shape              Param #   \n",
            "=================================================================\n",
            " dense (Dense)               (None, 16)                112       \n",
            "                                                                 \n",
            " dense_1 (Dense)             (None, 16)                272       \n",
            "                                                                 \n",
            " dense_2 (Dense)             (None, 1)                 17        \n",
            "                                                                 \n",
            "=================================================================\n",
            "Total params: 401 (1.57 KB)\n",
            "Trainable params: 401 (1.57 KB)\n",
            "Non-trainable params: 0 (0.00 Byte)\n",
            "_________________________________________________________________\n"
          ]
        }
      ]
    },
    {
      "cell_type": "code",
      "source": [
        "# Compile the Sequential model\n",
        "nn.compile(loss=\"binary_crossentropy\", optimizer=\"adam\", metrics=[\"accuracy\"])"
      ],
      "metadata": {
        "id": "t0eOOXq9hq2t"
      },
      "execution_count": 10,
      "outputs": []
    },
    {
      "cell_type": "code",
      "source": [
        "# # Fit the model using 100 epochs and the training data\n",
        "# fit_model = nn.fit(X_train_scaled, y_train, epochs=100)"
      ],
      "metadata": {
        "id": "TY8B32VShuD8"
      },
      "execution_count": 11,
      "outputs": []
    },
    {
      "cell_type": "code",
      "source": [
        "# # Evaluate the model loss and accuracy metrics using the evaluate method and the TRAIN data\n",
        "# model_loss, model_accuracy = nn.evaluate(X_train_scaled, y_train,verbose=0)\n",
        "\n",
        "# # Display the model loss and accuracy results\n",
        "# print(f\"Loss: {model_loss}, Accuracy: {model_accuracy}\")"
      ],
      "metadata": {
        "id": "DPROkTcWhxCk"
      },
      "execution_count": 12,
      "outputs": []
    },
    {
      "cell_type": "code",
      "source": [
        "from sklearn.linear_model import LinearRegression\n",
        "lr_model = LinearRegression()\n",
        "lr_model.fit(X_train, y_train)\n",
        "\n",
        "print(\"By using Linear Regression we got:\")\n",
        "print(\"Training data accuracy\",lr_model.score(X_train, y_train))\n",
        "print(\"Testing data accuracy\",lr_model.score(X_test, y_test))"
      ],
      "metadata": {
        "colab": {
          "base_uri": "https://localhost:8080/"
        },
        "id": "hhFj_9rvo8kR",
        "outputId": "99214f54-d7e5-4f9d-9c6f-bdfc8509e15e"
      },
      "execution_count": 13,
      "outputs": [
        {
          "output_type": "stream",
          "name": "stdout",
          "text": [
            "By using Linear Regression we got:\n",
            "Training data accuracy 0.2645586558419101\n",
            "Testing data accuracy -6.617828593457079\n"
          ]
        }
      ]
    },
    {
      "cell_type": "code",
      "source": [
        "from sklearn.ensemble import RandomForestRegressor\n",
        "rfm=RandomForestRegressor()\n",
        "rfm.fit(X_train,y_train)\n",
        "\n",
        "print(rfm.score(X_train,y_train))\n",
        "print(rfm.score(X_test,y_test))"
      ],
      "metadata": {
        "colab": {
          "base_uri": "https://localhost:8080/"
        },
        "id": "JERYdM5jo899",
        "outputId": "e75cba0a-f50f-4c96-d492-1bbd3aca1f42"
      },
      "execution_count": 14,
      "outputs": [
        {
          "output_type": "stream",
          "name": "stdout",
          "text": [
            "0.9154449527629253\n",
            "0.45360747534005164\n"
          ]
        }
      ]
    },
    {
      "cell_type": "code",
      "source": [],
      "metadata": {
        "id": "9QaPvU-NrwfK"
      },
      "execution_count": 14,
      "outputs": []
    },
    {
      "cell_type": "code",
      "source": [
        "y_pred = rfm.predict(X_test)"
      ],
      "metadata": {
        "id": "kB89jl5zv9XN"
      },
      "execution_count": 15,
      "outputs": []
    },
    {
      "cell_type": "code",
      "source": [],
      "metadata": {
        "id": "48MiKnCNxXOx"
      },
      "execution_count": null,
      "outputs": []
    },
    {
      "cell_type": "code",
      "source": [],
      "metadata": {
        "id": "pxmwzcvMxXL5"
      },
      "execution_count": null,
      "outputs": []
    },
    {
      "cell_type": "code",
      "source": [],
      "metadata": {
        "id": "XGiXazyYxXJC"
      },
      "execution_count": null,
      "outputs": []
    },
    {
      "cell_type": "code",
      "source": [],
      "metadata": {
        "id": "k4Vbdn92xXFe"
      },
      "execution_count": null,
      "outputs": []
    },
    {
      "cell_type": "code",
      "source": [],
      "metadata": {
        "id": "ehTZfCcuxW-_"
      },
      "execution_count": null,
      "outputs": []
    },
    {
      "cell_type": "code",
      "source": [],
      "metadata": {
        "id": "EPLXKn7hxWvf"
      },
      "execution_count": null,
      "outputs": []
    },
    {
      "cell_type": "code",
      "source": [
        "# Calculating R2 value or Coefficient of Determination\n",
        "test_set_r2 = r2_score(y_test, y_pred)\n",
        "print(\"Coefficient of Determination:\",test_set_r2)"
      ],
      "metadata": {
        "colab": {
          "base_uri": "https://localhost:8080/"
        },
        "id": "_TdE1KIjwU6e",
        "outputId": "e8ae32a5-af4f-4588-e099-c699a685d675"
      },
      "execution_count": 19,
      "outputs": [
        {
          "output_type": "stream",
          "name": "stdout",
          "text": [
            "Coefficient of Determination: 0.45360747534005164\n"
          ]
        }
      ]
    },
    {
      "cell_type": "code",
      "source": [
        "# Calculating MAE or Mean Absolute Error\n",
        "mae = mean_absolute_error(y_test, y_pred)\n",
        "print(\"Mean Absolute Error:\",mae)"
      ],
      "metadata": {
        "colab": {
          "base_uri": "https://localhost:8080/"
        },
        "id": "4kyYI7S-wJqQ",
        "outputId": "385c478b-d615-43f1-d832-406139ba2a6a"
      },
      "execution_count": 18,
      "outputs": [
        {
          "output_type": "stream",
          "name": "stdout",
          "text": [
            "Mean Absolute Error: 51523.40620322327\n"
          ]
        }
      ]
    },
    {
      "cell_type": "code",
      "source": [
        "# Calculating RMSE or Root Mean Square Error\n",
        "rmse = (np.sqrt(mean_squared_error(y_test, y_pred)))\n",
        "print(\"Root Mean Squared Error:\",rmse)"
      ],
      "metadata": {
        "colab": {
          "base_uri": "https://localhost:8080/"
        },
        "id": "TYs_Kl8nwKQX",
        "outputId": "b816aa0f-afc3-45c6-aeb5-e52e07e11cb2"
      },
      "execution_count": 22,
      "outputs": [
        {
          "output_type": "stream",
          "name": "stdout",
          "text": [
            "Root Mean Squared Error: 72401.02546335313\n"
          ]
        }
      ]
    },
    {
      "cell_type": "code",
      "source": [
        "# Comparing the MAE with Mean of the actual values (y_test)\n",
        "print(f\"The MAE is {(mae/np.mean(y_test))*100:.2f}% of Average of y_test ({np.mean(y_test):,.0f})\")"
      ],
      "metadata": {
        "colab": {
          "base_uri": "https://localhost:8080/"
        },
        "id": "xOh4SAhDwfU-",
        "outputId": "b77cabb6-7842-4891-df5e-e02c9fcd2515"
      },
      "execution_count": 23,
      "outputs": [
        {
          "output_type": "stream",
          "name": "stdout",
          "text": [
            "The MAE is 32.48% of Average of y_test (158,611)\n"
          ]
        }
      ]
    },
    {
      "cell_type": "code",
      "source": [
        "# Comparing the RMSE with Mean of the actual values (y_test)\n",
        "print(f\"The RMSE is {(rmse/np.mean(y_test))*100:.2f}% of Average of y_test ({np.mean(y_test):,.0f})\")"
      ],
      "metadata": {
        "colab": {
          "base_uri": "https://localhost:8080/"
        },
        "id": "koFIfZW9w0EN",
        "outputId": "38f6e80b-8fc4-45e5-b19a-37f51162dd08"
      },
      "execution_count": 25,
      "outputs": [
        {
          "output_type": "stream",
          "name": "stdout",
          "text": [
            "The RMSE is 45.65% of Average of y_test (158,611)\n"
          ]
        }
      ]
    },
    {
      "cell_type": "code",
      "source": [
        "# Comparing some of the individual actual values (y_test) with their respective predicted values (y_pred)\n",
        "for i in range(50):\n",
        "    print(f\"y_test[{i}]: {y_test[i]:10,.0f}    y_pred[{i}]: {y_pred[i]:10,.0f}   Difference (% of y_test): {((y_pred[i]-y_test[i])/y_test[i])*100:6.2f}%\")"
      ],
      "metadata": {
        "colab": {
          "base_uri": "https://localhost:8080/"
        },
        "id": "-7_-RyY0xdpq",
        "outputId": "664bea52-2978-436f-9894-9efedc55e496"
      },
      "execution_count": 30,
      "outputs": [
        {
          "output_type": "stream",
          "name": "stdout",
          "text": [
            "y_test[0]:     45,000    y_pred[0]:     89,290   Difference (% of y_test):  98.42%\n",
            "y_test[1]:    272,000    y_pred[1]:    178,518   Difference (% of y_test): -34.37%\n",
            "y_test[2]:    120,900    y_pred[2]:    146,060   Difference (% of y_test):  20.81%\n",
            "y_test[3]:     79,500    y_pred[3]:    109,857   Difference (% of y_test):  38.19%\n",
            "y_test[4]:    127,000    y_pred[4]:    234,953   Difference (% of y_test):  85.00%\n",
            "y_test[5]:    162,500    y_pred[5]:    138,648   Difference (% of y_test): -14.68%\n",
            "y_test[6]:    167,500    y_pred[6]:    146,488   Difference (% of y_test): -12.54%\n",
            "y_test[7]:    180,000    y_pred[7]:    151,881   Difference (% of y_test): -15.62%\n",
            "y_test[8]:    135,000    y_pred[8]:     86,503   Difference (% of y_test): -35.92%\n",
            "y_test[9]:    285,000    y_pred[9]:    132,813   Difference (% of y_test): -53.40%\n",
            "y_test[10]:    265,000    y_pred[10]:    255,582   Difference (% of y_test):  -3.55%\n",
            "y_test[11]:    178,400    y_pred[11]:    154,074   Difference (% of y_test): -13.64%\n",
            "y_test[12]:     70,000    y_pred[12]:     95,218   Difference (% of y_test):  36.03%\n",
            "y_test[13]:    136,000    y_pred[13]:    109,770   Difference (% of y_test): -19.29%\n",
            "y_test[14]:     99,600    y_pred[14]:    117,068   Difference (% of y_test):  17.54%\n",
            "y_test[15]:    125,000    y_pred[15]:    199,093   Difference (% of y_test):  59.27%\n",
            "y_test[16]:     84,500    y_pred[16]:    116,688   Difference (% of y_test):  38.09%\n",
            "y_test[17]:    165,000    y_pred[17]:    266,078   Difference (% of y_test):  61.26%\n",
            "y_test[18]:     75,000    y_pred[18]:    102,968   Difference (% of y_test):  37.29%\n",
            "y_test[19]:    136,900    y_pred[19]:    124,023   Difference (% of y_test):  -9.41%\n",
            "y_test[20]:     95,000    y_pred[20]:    101,525   Difference (% of y_test):   6.87%\n",
            "y_test[21]:    265,000    y_pred[21]:    157,261   Difference (% of y_test): -40.66%\n",
            "y_test[22]:    110,000    y_pred[22]:    141,713   Difference (% of y_test):  28.83%\n",
            "y_test[23]:     28,500    y_pred[23]:     71,440   Difference (% of y_test): 150.67%\n",
            "y_test[24]:    169,400    y_pred[24]:    121,933   Difference (% of y_test): -28.02%\n",
            "y_test[25]:    103,000    y_pred[25]:    103,943   Difference (% of y_test):   0.92%\n",
            "y_test[26]:    220,500    y_pred[26]:    167,077   Difference (% of y_test): -24.23%\n",
            "y_test[27]:    130,000    y_pred[27]:    116,985   Difference (% of y_test): -10.01%\n",
            "y_test[28]:    129,000    y_pred[28]:    161,413   Difference (% of y_test):  25.13%\n",
            "y_test[29]:    120,000    y_pred[29]:    120,960   Difference (% of y_test):   0.80%\n",
            "y_test[30]:    107,000    y_pred[30]:    128,255   Difference (% of y_test):  19.86%\n",
            "y_test[31]:    155,000    y_pred[31]:    139,035   Difference (% of y_test): -10.30%\n",
            "y_test[32]:     50,000    y_pred[32]:    217,899   Difference (% of y_test): 335.80%\n",
            "y_test[33]:    300,000    y_pred[33]:    187,610   Difference (% of y_test): -37.46%\n",
            "y_test[34]:     18,000    y_pred[34]:     90,690   Difference (% of y_test): 403.83%\n",
            "y_test[35]:    155,000    y_pred[35]:    183,910   Difference (% of y_test):  18.65%\n",
            "y_test[36]:    330,000    y_pred[36]:    258,212   Difference (% of y_test): -21.75%\n",
            "y_test[37]:     40,500    y_pred[37]:    107,156   Difference (% of y_test): 164.58%\n",
            "y_test[38]:     85,000    y_pred[38]:    145,058   Difference (% of y_test):  70.66%\n",
            "y_test[39]:    218,000    y_pred[39]:    169,838   Difference (% of y_test): -22.09%\n",
            "y_test[40]:    220,000    y_pred[40]:    205,470   Difference (% of y_test):  -6.60%\n",
            "y_test[41]:     79,900    y_pred[41]:    105,855   Difference (% of y_test):  32.48%\n",
            "y_test[42]:    217,000    y_pred[42]:    122,807   Difference (% of y_test): -43.41%\n",
            "y_test[43]:    215,000    y_pred[43]:    181,782   Difference (% of y_test): -15.45%\n",
            "y_test[44]:      5,000    y_pred[44]:    106,229   Difference (% of y_test): 2024.58%\n",
            "y_test[45]:    175,000    y_pred[45]:    271,915   Difference (% of y_test):  55.38%\n",
            "y_test[46]:    113,900    y_pred[46]:     82,821   Difference (% of y_test): -27.29%\n",
            "y_test[47]:    430,000    y_pred[47]:    501,004   Difference (% of y_test):  16.51%\n",
            "y_test[48]:    279,900    y_pred[48]:    237,334   Difference (% of y_test): -15.21%\n",
            "y_test[49]:     89,900    y_pred[49]:    127,844   Difference (% of y_test):  42.21%\n"
          ]
        }
      ]
    },
    {
      "cell_type": "code",
      "source": [
        "# Plotting graph between real and predicted values\n",
        "plt.plot(y_pred,y_test,'ro')\n",
        "plt.plot([400000,1500000],[400000,1500000], 'g-')\n",
        "plt.xlabel('Predicted')\n",
        "plt.ylabel('Actual')\n",
        "plt.show()"
      ],
      "metadata": {
        "colab": {
          "base_uri": "https://localhost:8080/",
          "height": 465
        },
        "id": "0bvLd-tGw5ou",
        "outputId": "7e3788f6-98db-45b5-93b8-1fda3a5041dd"
      },
      "execution_count": 29,
      "outputs": [
        {
          "output_type": "display_data",
          "data": {
            "text/plain": [
              "<Figure size 640x480 with 1 Axes>"
            ],
            "image/png": "[encoded data removed]"
          },
          "metadata": {}
        }
      ]
    },
    {
      "cell_type": "code",
      "source": [],
      "metadata": {
        "id": "woHL8AXtxB8m"
      },
      "execution_count": null,
      "outputs": []
    }
  ]
}