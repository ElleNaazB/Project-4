{
 "cells": [
  {
   "cell_type": "code",
   "execution_count": 1,
   "metadata": {},
   "outputs": [],
   "source": [
    "# Import dependencies\n",
    "import requests\n",
    "import pprint\n",
    "import pandas as pd\n",
    "import json\n",
    "import os\n",
    "import csv\n",
    "from pymongo import MongoClient\n",
    "from pprint import pprint"
   ]
  },
  {
   "cell_type": "code",
   "execution_count": 2,
   "metadata": {},
   "outputs": [
    {
     "name": "stderr",
     "output_type": "stream",
     "text": [
      "C:\\Users\\Ajunjee Selvam\\AppData\\Local\\Temp\\ipykernel_24812\\3404626824.py:1: DtypeWarning: Columns (12,17,19) have mixed types. Specify dtype option on import or set low_memory=False.\n",
      "  properties_original_df = pd.read_csv(\"Resources\\historical_property-sales-data.csv\")\n"
     ]
    },
    {
     "data": {
      "text/html": [
       "<div>\n",
       "<style scoped>\n",
       "    .dataframe tbody tr th:only-of-type {\n",
       "        vertical-align: middle;\n",
       "    }\n",
       "\n",
       "    .dataframe tbody tr th {\n",
       "        vertical-align: top;\n",
       "    }\n",
       "\n",
       "    .dataframe thead th {\n",
       "        text-align: right;\n",
       "    }\n",
       "</style>\n",
       "<table border=\"1\" class=\"dataframe\">\n",
       "  <thead>\n",
       "    <tr style=\"text-align: right;\">\n",
       "      <th></th>\n",
       "      <th>PropertyID</th>\n",
       "      <th>PropType</th>\n",
       "      <th>taxkey</th>\n",
       "      <th>Address</th>\n",
       "      <th>CondoProject</th>\n",
       "      <th>District</th>\n",
       "      <th>nbhd</th>\n",
       "      <th>Style</th>\n",
       "      <th>Extwall</th>\n",
       "      <th>Stories</th>\n",
       "      <th>Year_Built</th>\n",
       "      <th>Rooms</th>\n",
       "      <th>FinishedSqft</th>\n",
       "      <th>Units</th>\n",
       "      <th>Bdrms</th>\n",
       "      <th>Fbath</th>\n",
       "      <th>Hbath</th>\n",
       "      <th>Lotsize</th>\n",
       "      <th>Sale_date</th>\n",
       "      <th>Sale_price</th>\n",
       "    </tr>\n",
       "  </thead>\n",
       "  <tbody>\n",
       "    <tr>\n",
       "      <th>0</th>\n",
       "      <td>98459.0</td>\n",
       "      <td>Commercial</td>\n",
       "      <td>30091000</td>\n",
       "      <td>9220 N 107TH ST</td>\n",
       "      <td>NaN</td>\n",
       "      <td>9.0</td>\n",
       "      <td>6202.0</td>\n",
       "      <td>Office Building - 1 Story</td>\n",
       "      <td>Concrete Block</td>\n",
       "      <td>1.0</td>\n",
       "      <td>1981.0</td>\n",
       "      <td>NaN</td>\n",
       "      <td>12960</td>\n",
       "      <td>5</td>\n",
       "      <td>NaN</td>\n",
       "      <td>0.0</td>\n",
       "      <td>0.0</td>\n",
       "      <td>54885</td>\n",
       "      <td>2023-08-15</td>\n",
       "      <td>530000</td>\n",
       "    </tr>\n",
       "    <tr>\n",
       "      <th>1</th>\n",
       "      <td>98477.0</td>\n",
       "      <td>Residential</td>\n",
       "      <td>39995000</td>\n",
       "      <td>9574 N 107TH ST</td>\n",
       "      <td>NaN</td>\n",
       "      <td>9.0</td>\n",
       "      <td>40.0</td>\n",
       "      <td>Cape Cod</td>\n",
       "      <td>Aluminum/Vinyl</td>\n",
       "      <td>1.0</td>\n",
       "      <td>1942.0</td>\n",
       "      <td>7.0</td>\n",
       "      <td>1182</td>\n",
       "      <td>1</td>\n",
       "      <td>4.0</td>\n",
       "      <td>1.0</td>\n",
       "      <td>1.0</td>\n",
       "      <td>33541</td>\n",
       "      <td>2023-12-15</td>\n",
       "      <td>160000</td>\n",
       "    </tr>\n",
       "    <tr>\n",
       "      <th>2</th>\n",
       "      <td>98500.0</td>\n",
       "      <td>Residential</td>\n",
       "      <td>40071000</td>\n",
       "      <td>9531 N MICHAEL CT</td>\n",
       "      <td>NaN</td>\n",
       "      <td>9.0</td>\n",
       "      <td>40.0</td>\n",
       "      <td>Ranch</td>\n",
       "      <td>Fiber Cement/Hardiplank</td>\n",
       "      <td>1.0</td>\n",
       "      <td>2006.0</td>\n",
       "      <td>9.0</td>\n",
       "      <td>1880</td>\n",
       "      <td>1</td>\n",
       "      <td>3.0</td>\n",
       "      <td>2.0</td>\n",
       "      <td>0.0</td>\n",
       "      <td>10607</td>\n",
       "      <td>2023-08-31</td>\n",
       "      <td>387500</td>\n",
       "    </tr>\n",
       "    <tr>\n",
       "      <th>3</th>\n",
       "      <td>98566.0</td>\n",
       "      <td>Residential</td>\n",
       "      <td>50047000</td>\n",
       "      <td>9350 N JOYCE AV</td>\n",
       "      <td>NaN</td>\n",
       "      <td>9.0</td>\n",
       "      <td>40.0</td>\n",
       "      <td>Ranch</td>\n",
       "      <td>Aluminum/Vinyl</td>\n",
       "      <td>1.0</td>\n",
       "      <td>1980.0</td>\n",
       "      <td>6.0</td>\n",
       "      <td>1489</td>\n",
       "      <td>1</td>\n",
       "      <td>3.0</td>\n",
       "      <td>3.0</td>\n",
       "      <td>0.0</td>\n",
       "      <td>8640</td>\n",
       "      <td>2023-08-25</td>\n",
       "      <td>335000</td>\n",
       "    </tr>\n",
       "    <tr>\n",
       "      <th>4</th>\n",
       "      <td>98598.0</td>\n",
       "      <td>Residential</td>\n",
       "      <td>50079000</td>\n",
       "      <td>9355 N BURBANK AV</td>\n",
       "      <td>NaN</td>\n",
       "      <td>9.0</td>\n",
       "      <td>40.0</td>\n",
       "      <td>Ranch</td>\n",
       "      <td>Aluminum/Vinyl</td>\n",
       "      <td>1.0</td>\n",
       "      <td>1986.0</td>\n",
       "      <td>5.0</td>\n",
       "      <td>1209</td>\n",
       "      <td>1</td>\n",
       "      <td>3.0</td>\n",
       "      <td>1.0</td>\n",
       "      <td>1.0</td>\n",
       "      <td>7200</td>\n",
       "      <td>2023-06-20</td>\n",
       "      <td>250000</td>\n",
       "    </tr>\n",
       "  </tbody>\n",
       "</table>\n",
       "</div>"
      ],
      "text/plain": [
       "   PropertyID     PropType    taxkey            Address CondoProject  \\\n",
       "0     98459.0   Commercial  30091000    9220 N 107TH ST          NaN   \n",
       "1     98477.0  Residential  39995000    9574 N 107TH ST          NaN   \n",
       "2     98500.0  Residential  40071000  9531 N MICHAEL CT          NaN   \n",
       "3     98566.0  Residential  50047000    9350 N JOYCE AV          NaN   \n",
       "4     98598.0  Residential  50079000  9355 N BURBANK AV          NaN   \n",
       "\n",
       "   District    nbhd                      Style                  Extwall  \\\n",
       "0       9.0  6202.0  Office Building - 1 Story           Concrete Block   \n",
       "1       9.0    40.0                   Cape Cod           Aluminum/Vinyl   \n",
       "2       9.0    40.0                      Ranch  Fiber Cement/Hardiplank   \n",
       "3       9.0    40.0                      Ranch           Aluminum/Vinyl   \n",
       "4       9.0    40.0                      Ranch           Aluminum/Vinyl   \n",
       "\n",
       "   Stories  Year_Built  Rooms FinishedSqft  Units  Bdrms  Fbath  Hbath  \\\n",
       "0      1.0      1981.0    NaN        12960      5    NaN    0.0    0.0   \n",
       "1      1.0      1942.0    7.0         1182      1    4.0    1.0    1.0   \n",
       "2      1.0      2006.0    9.0         1880      1    3.0    2.0    0.0   \n",
       "3      1.0      1980.0    6.0         1489      1    3.0    3.0    0.0   \n",
       "4      1.0      1986.0    5.0         1209      1    3.0    1.0    1.0   \n",
       "\n",
       "  Lotsize   Sale_date Sale_price  \n",
       "0   54885  2023-08-15     530000  \n",
       "1   33541  2023-12-15     160000  \n",
       "2   10607  2023-08-31     387500  \n",
       "3    8640  2023-08-25     335000  \n",
       "4    7200  2023-06-20     250000  "
      ]
     },
     "execution_count": 2,
     "metadata": {},
     "output_type": "execute_result"
    }
   ],
   "source": [
    "properties_original_df = pd.read_csv(\"Resources\\historical_property-sales-data.csv\")\n",
    "properties_original_df.head()"
   ]
  },
  {
   "cell_type": "code",
   "execution_count": 3,
   "metadata": {},
   "outputs": [
    {
     "data": {
      "text/plain": [
       "Index(['PropertyID', 'PropType', 'taxkey', 'Address', 'CondoProject',\n",
       "       'District', 'nbhd', 'Style', 'Extwall', 'Stories', 'Year_Built',\n",
       "       'Rooms', 'FinishedSqft', 'Units', 'Bdrms', 'Fbath', 'Hbath', 'Lotsize',\n",
       "       'Sale_date', 'Sale_price'],\n",
       "      dtype='object')"
      ]
     },
     "execution_count": 3,
     "metadata": {},
     "output_type": "execute_result"
    }
   ],
   "source": [
    "properties_original_df.columns"
   ]
  },
  {
   "cell_type": "code",
   "execution_count": 4,
   "metadata": {},
   "outputs": [
    {
     "data": {
      "text/plain": [
       "(56232, 20)"
      ]
     },
     "execution_count": 4,
     "metadata": {},
     "output_type": "execute_result"
    }
   ],
   "source": [
    "properties_original_df.shape"
   ]
  },
  {
   "cell_type": "code",
   "execution_count": 5,
   "metadata": {},
   "outputs": [
    {
     "name": "stdout",
     "output_type": "stream",
     "text": [
      "<class 'pandas.core.frame.DataFrame'>\n",
      "RangeIndex: 56232 entries, 0 to 56231\n",
      "Data columns (total 20 columns):\n",
      " #   Column        Non-Null Count  Dtype  \n",
      "---  ------        --------------  -----  \n",
      " 0   PropertyID    32049 non-null  float64\n",
      " 1   PropType      56224 non-null  object \n",
      " 2   taxkey        56232 non-null  int64  \n",
      " 3   Address       56228 non-null  object \n",
      " 4   CondoProject  9164 non-null   object \n",
      " 5   District      56230 non-null  float64\n",
      " 6   nbhd          56175 non-null  float64\n",
      " 7   Style         56141 non-null  object \n",
      " 8   Extwall       45726 non-null  object \n",
      " 9   Stories       56063 non-null  float64\n",
      " 10  Year_Built    56171 non-null  float64\n",
      " 11  Rooms         54602 non-null  float64\n",
      " 12  FinishedSqft  56131 non-null  object \n",
      " 13  Units         56232 non-null  int64  \n",
      " 14  Bdrms         54603 non-null  float64\n",
      " 15  Fbath         55577 non-null  float64\n",
      " 16  Hbath         51392 non-null  float64\n",
      " 17  Lotsize       56231 non-null  object \n",
      " 18  Sale_date     56232 non-null  object \n",
      " 19  Sale_price    56222 non-null  object \n",
      "dtypes: float64(9), int64(2), object(9)\n",
      "memory usage: 8.6+ MB\n"
     ]
    }
   ],
   "source": [
    "properties_original_df.info()"
   ]
  },
  {
   "cell_type": "markdown",
   "metadata": {},
   "source": [
    "What about the Style - do we filter for that as well? Because there's a lot of different types included."
   ]
  },
  {
   "cell_type": "code",
   "execution_count": 6,
   "metadata": {},
   "outputs": [
    {
     "data": {
      "text/plain": [
       "PropertyID      18069\n",
       "PropType            0\n",
       "Address             3\n",
       "Style              87\n",
       "Year_Built         26\n",
       "FinishedSqft       90\n",
       "Bdrms             128\n",
       "Fbath              10\n",
       "Hbath            3610\n",
       "Lotsize             0\n",
       "Sale_date           0\n",
       "Sale_price          8\n",
       "dtype: int64"
      ]
     },
     "execution_count": 6,
     "metadata": {},
     "output_type": "execute_result"
    }
   ],
   "source": [
    "residential_properties_df = properties_original_df.loc[properties_original_df['PropType'] == \"Residential\"]\n",
    "residential_properties_df = residential_properties_df.drop(columns=['taxkey', 'CondoProject', 'District','nbhd', 'Extwall', 'Stories','Units', 'Rooms'], axis=1)\n",
    "residential_properties_df.isnull().sum()"
   ]
  },
  {
   "cell_type": "code",
   "execution_count": 7,
   "metadata": {},
   "outputs": [
    {
     "name": "stdout",
     "output_type": "stream",
     "text": [
      "<class 'pandas.core.frame.DataFrame'>\n",
      "Index: 43742 entries, 1 to 56182\n",
      "Data columns (total 12 columns):\n",
      " #   Column        Non-Null Count  Dtype         \n",
      "---  ------        --------------  -----         \n",
      " 0   PropertyID    25673 non-null  float64       \n",
      " 1   PropType      43742 non-null  object        \n",
      " 2   Address       43739 non-null  object        \n",
      " 3   Style         43655 non-null  object        \n",
      " 4   Year_Built    43716 non-null  float64       \n",
      " 5   FinishedSqft  34797 non-null  float64       \n",
      " 6   Bdrms         43614 non-null  float64       \n",
      " 7   Fbath         43732 non-null  float64       \n",
      " 8   Hbath         40132 non-null  float64       \n",
      " 9   Lotsize       33264 non-null  float64       \n",
      " 10  Sale_date     43742 non-null  datetime64[ns]\n",
      " 11  Sale_price    33228 non-null  float64       \n",
      "dtypes: datetime64[ns](1), float64(8), object(3)\n",
      "memory usage: 4.3+ MB\n"
     ]
    },
    {
     "name": "stderr",
     "output_type": "stream",
     "text": [
      "C:\\Users\\Ajunjee Selvam\\AppData\\Local\\Temp\\ipykernel_24812\\955635428.py:4: UserWarning: The argument 'infer_datetime_format' is deprecated and will be removed in a future version. A strict version of it is now the default, see https://pandas.pydata.org/pdeps/0004-consistent-to-datetime-parsing.html. You can safely remove this argument.\n",
      "  residential_properties_df['Sale_date'] = pd.to_datetime(residential_properties_df['Sale_date'], infer_datetime_format=True, format='mixed')\n"
     ]
    }
   ],
   "source": [
    "residential_properties_df['FinishedSqft'] = residential_properties_df['FinishedSqft'].apply(pd.to_numeric, errors='coerce')\n",
    "residential_properties_df['Lotsize'] = residential_properties_df['Lotsize'].apply(pd.to_numeric, errors='coerce')\n",
    "residential_properties_df['Sale_price'] = residential_properties_df['Sale_price'].apply(pd.to_numeric, errors='coerce')\n",
    "residential_properties_df['Sale_date'] = pd.to_datetime(residential_properties_df['Sale_date'], infer_datetime_format=True, format='mixed')\n",
    "residential_properties_df.info()"
   ]
  },
  {
   "cell_type": "code",
   "execution_count": 8,
   "metadata": {},
   "outputs": [
    {
     "data": {
      "text/plain": [
       "PropertyID      18069\n",
       "PropType            0\n",
       "Address             0\n",
       "Style               0\n",
       "Year_Built          0\n",
       "FinishedSqft        0\n",
       "Bdrms               0\n",
       "Fbath               0\n",
       "Hbath               0\n",
       "Lotsize             0\n",
       "Sale_date           0\n",
       "Sale_price          0\n",
       "dtype: int64"
      ]
     },
     "execution_count": 8,
     "metadata": {},
     "output_type": "execute_result"
    }
   ],
   "source": [
    "residential_properties_df = residential_properties_df[residential_properties_df['PropType'].notna()]\n",
    "residential_properties_df = residential_properties_df[residential_properties_df['Bdrms'].notna()]\n",
    "residential_properties_df = residential_properties_df[residential_properties_df['Fbath'].notna()]\n",
    "residential_properties_df = residential_properties_df[residential_properties_df['Sale_price'].notna()]\n",
    "residential_properties_df['Hbath'].fillna(0,inplace=True)\n",
    "residential_properties_df.isnull().sum()"
   ]
  },
  {
   "cell_type": "code",
   "execution_count": 9,
   "metadata": {},
   "outputs": [
    {
     "name": "stdout",
     "output_type": "stream",
     "text": [
      "<class 'pandas.core.frame.DataFrame'>\n",
      "Index: 33153 entries, 1 to 56182\n",
      "Data columns (total 12 columns):\n",
      " #   Column        Non-Null Count  Dtype         \n",
      "---  ------        --------------  -----         \n",
      " 0   PropertyID    15084 non-null  float64       \n",
      " 1   PropType      33153 non-null  object        \n",
      " 2   Address       33153 non-null  object        \n",
      " 3   Style         33153 non-null  object        \n",
      " 4   Year_Built    33153 non-null  float64       \n",
      " 5   FinishedSqft  33153 non-null  float64       \n",
      " 6   Bdrms         33153 non-null  float64       \n",
      " 7   Fbath         33153 non-null  float64       \n",
      " 8   Hbath         33153 non-null  float64       \n",
      " 9   Lotsize       33153 non-null  float64       \n",
      " 10  Sale_date     33153 non-null  datetime64[ns]\n",
      " 11  Sale_price    33153 non-null  float64       \n",
      "dtypes: datetime64[ns](1), float64(8), object(3)\n",
      "memory usage: 3.3+ MB\n"
     ]
    }
   ],
   "source": [
    "residential_properties_df.info()"
   ]
  },
  {
   "cell_type": "code",
   "execution_count": 10,
   "metadata": {},
   "outputs": [
    {
     "data": {
      "text/plain": [
       "PropertyID      18069\n",
       "PropType            0\n",
       "Address             0\n",
       "Style               0\n",
       "Year_Built          0\n",
       "FinishedSqft        0\n",
       "Bdrms               0\n",
       "Fbath               0\n",
       "Hbath               0\n",
       "Lotsize             0\n",
       "Sale_date           0\n",
       "Sale_price          0\n",
       "dtype: int64"
      ]
     },
     "execution_count": 10,
     "metadata": {},
     "output_type": "execute_result"
    }
   ],
   "source": [
    "residential_properties_df.isnull().sum()"
   ]
  },
  {
   "cell_type": "code",
   "execution_count": 11,
   "metadata": {},
   "outputs": [
    {
     "data": {
      "text/html": [
       "<div>\n",
       "<style scoped>\n",
       "    .dataframe tbody tr th:only-of-type {\n",
       "        vertical-align: middle;\n",
       "    }\n",
       "\n",
       "    .dataframe tbody tr th {\n",
       "        vertical-align: top;\n",
       "    }\n",
       "\n",
       "    .dataframe thead th {\n",
       "        text-align: right;\n",
       "    }\n",
       "</style>\n",
       "<table border=\"1\" class=\"dataframe\">\n",
       "  <thead>\n",
       "    <tr style=\"text-align: right;\">\n",
       "      <th></th>\n",
       "      <th>PropertyID</th>\n",
       "      <th>PropType</th>\n",
       "      <th>Address</th>\n",
       "      <th>Style</th>\n",
       "      <th>Year_Built</th>\n",
       "      <th>FinishedSqft</th>\n",
       "      <th>Bdrms</th>\n",
       "      <th>Fbath</th>\n",
       "      <th>Hbath</th>\n",
       "      <th>Lotsize</th>\n",
       "      <th>Sale_date</th>\n",
       "      <th>Sale_price</th>\n",
       "      <th>year</th>\n",
       "      <th>month</th>\n",
       "    </tr>\n",
       "  </thead>\n",
       "  <tbody>\n",
       "    <tr>\n",
       "      <th>1</th>\n",
       "      <td>98477.0</td>\n",
       "      <td>Residential</td>\n",
       "      <td>9574 N 107TH ST</td>\n",
       "      <td>Cape Cod</td>\n",
       "      <td>1942.0</td>\n",
       "      <td>1182.0</td>\n",
       "      <td>4.0</td>\n",
       "      <td>1.0</td>\n",
       "      <td>1.0</td>\n",
       "      <td>33541.0</td>\n",
       "      <td>2023-12-15</td>\n",
       "      <td>160000.0</td>\n",
       "      <td>2023</td>\n",
       "      <td>12</td>\n",
       "    </tr>\n",
       "    <tr>\n",
       "      <th>2</th>\n",
       "      <td>98500.0</td>\n",
       "      <td>Residential</td>\n",
       "      <td>9531 N MICHAEL CT</td>\n",
       "      <td>Ranch</td>\n",
       "      <td>2006.0</td>\n",
       "      <td>1880.0</td>\n",
       "      <td>3.0</td>\n",
       "      <td>2.0</td>\n",
       "      <td>0.0</td>\n",
       "      <td>10607.0</td>\n",
       "      <td>2023-08-31</td>\n",
       "      <td>387500.0</td>\n",
       "      <td>2023</td>\n",
       "      <td>8</td>\n",
       "    </tr>\n",
       "    <tr>\n",
       "      <th>3</th>\n",
       "      <td>98566.0</td>\n",
       "      <td>Residential</td>\n",
       "      <td>9350 N JOYCE AV</td>\n",
       "      <td>Ranch</td>\n",
       "      <td>1980.0</td>\n",
       "      <td>1489.0</td>\n",
       "      <td>3.0</td>\n",
       "      <td>3.0</td>\n",
       "      <td>0.0</td>\n",
       "      <td>8640.0</td>\n",
       "      <td>2023-08-25</td>\n",
       "      <td>335000.0</td>\n",
       "      <td>2023</td>\n",
       "      <td>8</td>\n",
       "    </tr>\n",
       "    <tr>\n",
       "      <th>4</th>\n",
       "      <td>98598.0</td>\n",
       "      <td>Residential</td>\n",
       "      <td>9355 N BURBANK AV</td>\n",
       "      <td>Ranch</td>\n",
       "      <td>1986.0</td>\n",
       "      <td>1209.0</td>\n",
       "      <td>3.0</td>\n",
       "      <td>1.0</td>\n",
       "      <td>1.0</td>\n",
       "      <td>7200.0</td>\n",
       "      <td>2023-06-20</td>\n",
       "      <td>250000.0</td>\n",
       "      <td>2023</td>\n",
       "      <td>6</td>\n",
       "    </tr>\n",
       "    <tr>\n",
       "      <th>5</th>\n",
       "      <td>98624.0</td>\n",
       "      <td>Residential</td>\n",
       "      <td>8210 W GLENBROOK RD</td>\n",
       "      <td>Colonial</td>\n",
       "      <td>1989.0</td>\n",
       "      <td>1663.0</td>\n",
       "      <td>3.0</td>\n",
       "      <td>2.0</td>\n",
       "      <td>1.0</td>\n",
       "      <td>7200.0</td>\n",
       "      <td>2023-01-10</td>\n",
       "      <td>270000.0</td>\n",
       "      <td>2023</td>\n",
       "      <td>1</td>\n",
       "    </tr>\n",
       "  </tbody>\n",
       "</table>\n",
       "</div>"
      ],
      "text/plain": [
       "   PropertyID     PropType              Address     Style  Year_Built  \\\n",
       "1     98477.0  Residential      9574 N 107TH ST  Cape Cod      1942.0   \n",
       "2     98500.0  Residential    9531 N MICHAEL CT     Ranch      2006.0   \n",
       "3     98566.0  Residential      9350 N JOYCE AV     Ranch      1980.0   \n",
       "4     98598.0  Residential    9355 N BURBANK AV     Ranch      1986.0   \n",
       "5     98624.0  Residential  8210 W GLENBROOK RD  Colonial      1989.0   \n",
       "\n",
       "   FinishedSqft  Bdrms  Fbath  Hbath  Lotsize  Sale_date  Sale_price  year  \\\n",
       "1        1182.0    4.0    1.0    1.0  33541.0 2023-12-15    160000.0  2023   \n",
       "2        1880.0    3.0    2.0    0.0  10607.0 2023-08-31    387500.0  2023   \n",
       "3        1489.0    3.0    3.0    0.0   8640.0 2023-08-25    335000.0  2023   \n",
       "4        1209.0    3.0    1.0    1.0   7200.0 2023-06-20    250000.0  2023   \n",
       "5        1663.0    3.0    2.0    1.0   7200.0 2023-01-10    270000.0  2023   \n",
       "\n",
       "   month  \n",
       "1     12  \n",
       "2      8  \n",
       "3      8  \n",
       "4      6  \n",
       "5      1  "
      ]
     },
     "execution_count": 11,
     "metadata": {},
     "output_type": "execute_result"
    }
   ],
   "source": [
    "residential_properties_df['year'] = residential_properties_df['Sale_date'].dt.year\n",
    "residential_properties_df['month'] = residential_properties_df['Sale_date'].dt.month\n",
    "residential_properties_df.head()"
   ]
  },
  {
   "cell_type": "code",
   "execution_count": 12,
   "metadata": {},
   "outputs": [],
   "source": [
    "residential_properties_df.to_csv(\"Resources\\cleaned-property-sales-data.csv\")"
   ]
  }
 ],
 "metadata": {
  "kernelspec": {
   "display_name": "base",
   "language": "python",
   "name": "python3"
  },
  "language_info": {
   "codemirror_mode": {
    "name": "ipython",
    "version": 3
   },
   "file_extension": ".py",
   "mimetype": "text/x-python",
   "name": "python",
   "nbconvert_exporter": "python",
   "pygments_lexer": "ipython3",
   "version": "3.11.5"
  }
 },
 "nbformat": 4,
 "nbformat_minor": 2
}
